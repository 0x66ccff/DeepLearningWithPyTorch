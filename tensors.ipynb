{
 "cells": [
  {
   "cell_type": "code",
   "execution_count": 10,
   "metadata": {},
   "outputs": [
    {
     "data": {
      "application/javascript": [
       "\n",
       "require.config({\n",
       "    paths: {\n",
       "        \n",
       "        d3: 'https://d3js.org/d3.v5.min'\n",
       "    }\n",
       "});\n",
       "\n",
       "require.undef('tree');\n",
       "\n",
       "define('tree', ['d3'], function(d3) {\n",
       "    const draw = function(element, data) {\n",
       "        var root = d3.hierarchy(data);\n",
       "        \n",
       "        var width = 600;\n",
       "        var height = root.height * 40;\n",
       "        var radius = 10;\n",
       "        \n",
       "        var treeLayout = d3.tree()\n",
       "            .size([width, height]);\n",
       "        \n",
       "        treeLayout(root);\n",
       "\n",
       "        var svg = d3.select(element).append('svg')\n",
       "            .attr('width', width+50)\n",
       "            .attr('height', height+50);\n",
       "\n",
       "        var transform = svg.append('g')\n",
       "            .attr('transform', 'translate(20, 20)');\n",
       "        \n",
       "        // Links\n",
       "        transform.append('g')\n",
       "            .selectAll('line')\n",
       "            .data(root.links())\n",
       "            .enter()\n",
       "            .append('line')\n",
       "            .attr('stroke', '#c0c0c0')\n",
       "            .attr('x1', function(d) {return d.source.x;})\n",
       "            .attr('y1', function(d) {return d.source.y;})\n",
       "            .attr('x2', function(d) {return d.target.x;})\n",
       "            .attr('y2', function(d) {return d.target.y;});\n",
       "        \n",
       "        // Nodes\n",
       "        transform.append('g')\n",
       "            .selectAll('circle')\n",
       "            .data(root.descendants())\n",
       "            .enter()\n",
       "            .append('circle')\n",
       "            .attr('stroke', function(d) { return d.data.leaf === 'true' ? '#808080' : '#000000'; })\n",
       "            .attr('fill', function(d) { \n",
       "                if(d.data.name == 'Const')\n",
       "                    return '#B37D4E';\n",
       "                else if(d.data.name == 'Var')\n",
       "                    return '#CD5360';\n",
       "                else\n",
       "                    return '#286DA8';\n",
       "             })\n",
       "            .attr('cx', function(d) {return d.x;})\n",
       "            .attr('cy', function(d) {return d.y;})\n",
       "            .attr('r', radius);\n",
       "\n",
       "        // labels\n",
       "        transform.append('g')\n",
       "            .selectAll('text')\n",
       "            .data(root.descendants())\n",
       "            .enter()\n",
       "            .append('text')\n",
       "            .text(function(d){return d.data.name;})\n",
       "            .attr('x', function(d) {return d.x+radius+3;})\n",
       "            .attr('y', function(d) {return d.y+5;});\n",
       "    };\n",
       "    return draw;\n",
       "});\n"
      ],
      "text/plain": [
       "<IPython.core.display.Javascript object>"
      ]
     },
     "execution_count": 10,
     "metadata": {},
     "output_type": "execute_result"
    }
   ],
   "source": [
    "import re\n",
    "import json\n",
    "import torch\n",
    "import torch.nn as nn\n",
    "import torch.nn.functional as F\n",
    "import utils.viz as torchviz\n",
    "torchviz.init()"
   ]
  },
  {
   "cell_type": "code",
   "execution_count": 11,
   "metadata": {},
   "outputs": [
    {
     "data": {
      "application/javascript": [
       "\n",
       "(function(element){\n",
       "    require(['tree'], function(tree) {\n",
       "        tree(element.get(0), {\"leaf\": \"false\", \"name\": \"Mean\", \"children\": [{\"leaf\": \"false\", \"name\": \"Pow\", \"children\": [{\"leaf\": \"false\", \"name\": \"Sub\", \"children\": [{\"leaf\": \"false\", \"name\": \"Add\", \"children\": [{\"leaf\": \"false\", \"name\": \"Mm\", \"children\": [{\"leaf\": \"true\", \"name\": \"Const\"}, {\"leaf\": \"true\", \"name\": \"Var\"}]}, {\"leaf\": \"true\", \"name\": \"Var\"}]}, {\"leaf\": \"true\", \"name\": \"Const\"}]}]}]})\n",
       "    });\n",
       "})(element);\n"
      ],
      "text/plain": [
       "<IPython.core.display.Javascript object>"
      ]
     },
     "execution_count": 11,
     "metadata": {},
     "output_type": "execute_result"
    }
   ],
   "source": [
    "x = torch.tensor([[255., 232, 132, 12, 343, 21, 0, 32, 12]]) / 255\n",
    "y = torch.tensor([1., 0, 0])\n",
    "w = torch.rand(9, 3, requires_grad=True)\n",
    "b = torch.rand(1, 3, requires_grad=True)\n",
    "\n",
    "h = x.mm(w) + b\n",
    "loss = ((h - y)**2).mean()\n",
    "loss.backward()\n",
    "\n",
    "torchviz.draw(loss)"
   ]
  },
  {
   "cell_type": "code",
   "execution_count": 12,
   "metadata": {},
   "outputs": [],
   "source": [
    "class LinearModel(nn.Module):\n",
    "    def __init__(self, x, y):\n",
    "        super(LinearModel, self).__init__()\n",
    "        self.layer1 = nn.Linear(x, y)\n",
    "\n",
    "    def forward(self, x):\n",
    "        x = self.layer1(x)\n",
    "        return F.softmax(x, dim=1)"
   ]
  },
  {
   "cell_type": "code",
   "execution_count": 14,
   "metadata": {},
   "outputs": [
    {
     "data": {
      "application/javascript": [
       "\n",
       "(function(element){\n",
       "    require(['tree'], function(tree) {\n",
       "        tree(element.get(0), {\"leaf\": \"false\", \"name\": \"Mse\", \"children\": [{\"leaf\": \"false\", \"name\": \"Softmax\", \"children\": [{\"leaf\": \"false\", \"name\": \"Addmm\", \"children\": [{\"leaf\": \"true\", \"name\": \"Var\"}, {\"leaf\": \"true\", \"name\": \"Const\"}, {\"leaf\": \"false\", \"name\": \"T\", \"children\": [{\"leaf\": \"true\", \"name\": \"Var\"}]}]}]}]})\n",
       "    });\n",
       "})(element);\n"
      ],
      "text/plain": [
       "<IPython.core.display.Javascript object>"
      ]
     },
     "execution_count": 14,
     "metadata": {},
     "output_type": "execute_result"
    }
   ],
   "source": [
    "model = LinearModel(9, 3)\n",
    "cost = nn.MSELoss()\n",
    "pred = model(x)\n",
    "loss = cost(pred, y)\n",
    "loss.backward()\n",
    "\n",
    "torchviz.draw(loss)"
   ]
  },
  {
   "cell_type": "code",
   "execution_count": 15,
   "metadata": {},
   "outputs": [],
   "source": [
    "class NeuralNework(nn.Module):\n",
    "    def __init__(self, x, y):\n",
    "        super(NeuralNework, self).__init__()\n",
    "        hidden = int(x/2)\n",
    "        self.layer1 = nn.Linear(x, hidden)\n",
    "        self.layer2 = nn.Linear(hidden, hidden)\n",
    "        self.output = nn.Linear(hidden, y)\n",
    "\n",
    "    def forward(self, x):\n",
    "        x = F.relu(self.layer1(x))\n",
    "        x = F.relu(self.layer2(x))\n",
    "        x = self.output(x)\n",
    "        return F.softmax(x, dim=1)"
   ]
  },
  {
   "cell_type": "code",
   "execution_count": 17,
   "metadata": {},
   "outputs": [
    {
     "data": {
      "application/javascript": [
       "\n",
       "(function(element){\n",
       "    require(['tree'], function(tree) {\n",
       "        tree(element.get(0), {\"leaf\": \"false\", \"name\": \"Mse\", \"children\": [{\"leaf\": \"false\", \"name\": \"Softmax\", \"children\": [{\"leaf\": \"false\", \"name\": \"Addmm\", \"children\": [{\"leaf\": \"true\", \"name\": \"Var\"}, {\"leaf\": \"false\", \"name\": \"Relu\", \"children\": [{\"leaf\": \"false\", \"name\": \"Addmm\", \"children\": [{\"leaf\": \"true\", \"name\": \"Var\"}, {\"leaf\": \"false\", \"name\": \"Relu\", \"children\": [{\"leaf\": \"false\", \"name\": \"Addmm\", \"children\": [{\"leaf\": \"true\", \"name\": \"Var\"}, {\"leaf\": \"true\", \"name\": \"Const\"}, {\"leaf\": \"false\", \"name\": \"T\", \"children\": [{\"leaf\": \"true\", \"name\": \"Var\"}]}]}]}, {\"leaf\": \"false\", \"name\": \"T\", \"children\": [{\"leaf\": \"true\", \"name\": \"Var\"}]}]}]}, {\"leaf\": \"false\", \"name\": \"T\", \"children\": [{\"leaf\": \"true\", \"name\": \"Var\"}]}]}]}]})\n",
       "    });\n",
       "})(element);\n"
      ],
      "text/plain": [
       "<IPython.core.display.Javascript object>"
      ]
     },
     "execution_count": 17,
     "metadata": {},
     "output_type": "execute_result"
    }
   ],
   "source": [
    "model = NeuralNework(9, 3)\n",
    "cost = nn.MSELoss()\n",
    "pred = model(x)\n",
    "loss = cost(pred, y)\n",
    "loss.backward()\n",
    "\n",
    "torchviz.draw(loss)"
   ]
  },
  {
   "cell_type": "code",
   "execution_count": null,
   "metadata": {},
   "outputs": [],
   "source": []
  }
 ],
 "metadata": {
  "kernelspec": {
   "display_name": "Python 3",
   "language": "python",
   "name": "python3"
  },
  "language_info": {
   "codemirror_mode": {
    "name": "ipython",
    "version": 3
   },
   "file_extension": ".py",
   "mimetype": "text/x-python",
   "name": "python",
   "nbconvert_exporter": "python",
   "pygments_lexer": "ipython3",
   "version": "3.6.5"
  },
  "varInspector": {
   "cols": {
    "lenName": 16,
    "lenType": 16,
    "lenVar": 40
   },
   "kernels_config": {
    "python": {
     "delete_cmd_postfix": "",
     "delete_cmd_prefix": "del ",
     "library": "var_list.py",
     "varRefreshCmd": "print(var_dic_list())"
    },
    "r": {
     "delete_cmd_postfix": ") ",
     "delete_cmd_prefix": "rm(",
     "library": "var_list.r",
     "varRefreshCmd": "cat(var_dic_list()) "
    }
   },
   "types_to_exclude": [
    "module",
    "function",
    "builtin_function_or_method",
    "instance",
    "_Feature"
   ],
   "window_display": false
  }
 },
 "nbformat": 4,
 "nbformat_minor": 2
}
