{
 "cells": [
  {
   "cell_type": "markdown",
   "metadata": {},
   "source": [
    "# Tensors\n",
    "Where the magic begins!"
   ]
  },
  {
   "cell_type": "code",
   "execution_count": 1,
   "metadata": {},
   "outputs": [],
   "source": [
    "import torch"
   ]
  },
  {
   "cell_type": "code",
   "execution_count": 19,
   "metadata": {},
   "outputs": [
    {
     "name": "stdout",
     "output_type": "stream",
     "text": [
      "tensor([[101., 154., 207.],\n",
      "        [ 56., 101., 106.],\n",
      "        [ 89., 122., 236.]]) \n",
      " tensor([[0.8468, 0.2695, 0.5799],\n",
      "        [0.9236, 0.1147, 0.5958],\n",
      "        [0.1730, 0.5902, 0.7886]])\n"
     ]
    }
   ],
   "source": [
    "x = torch.randint(255, (3, 3), dtype=torch.float)\n",
    "y = torch.rand(3, 3)\n",
    "print(x, '\\n', y)"
   ]
  },
  {
   "cell_type": "code",
   "execution_count": 20,
   "metadata": {},
   "outputs": [
    {
     "data": {
      "text/plain": [
       "tensor([[101.8468, 154.2695, 207.5799],\n",
       "        [ 56.9236, 101.1147, 106.5958],\n",
       "        [ 89.1730, 122.5901, 236.7886]])"
      ]
     },
     "execution_count": 20,
     "metadata": {},
     "output_type": "execute_result"
    }
   ],
   "source": [
    "x.add_(y)"
   ]
  },
  {
   "cell_type": "code",
   "execution_count": 23,
   "metadata": {},
   "outputs": [
    {
     "data": {
      "text/plain": [
       "tensor([[101.8468, 154.2695, 207.5799],\n",
       "        [ 56.9236, 101.1147, 106.5958],\n",
       "        [ 89.1730, 122.5901, 236.7886]])"
      ]
     },
     "execution_count": 23,
     "metadata": {},
     "output_type": "execute_result"
    }
   ],
   "source": [
    "x"
   ]
  },
  {
   "cell_type": "markdown",
   "metadata": {},
   "source": [
    "# Make our square nines"
   ]
  },
  {
   "cell_type": "code",
   "execution_count": 4,
   "metadata": {},
   "outputs": [
    {
     "data": {
      "text/plain": [
       "tensor([[[ 78., 152., 169.],\n",
       "         [ 38., 232.,  37.],\n",
       "         [ 15., 104., 120.]],\n",
       "\n",
       "        [[ 11.,  56., 151.],\n",
       "         [144., 215., 190.],\n",
       "         [108., 245.,   3.]],\n",
       "\n",
       "        [[ 79., 199., 246.],\n",
       "         [246.,  37.,  96.],\n",
       "         [233.,  84., 250.]],\n",
       "\n",
       "        ...,\n",
       "\n",
       "        [[186., 155.,  49.],\n",
       "         [182., 146.,  99.],\n",
       "         [ 66., 202., 113.]],\n",
       "\n",
       "        [[235.,  74.,  17.],\n",
       "         [ 25.,  64.,   9.],\n",
       "         [ 57., 199., 139.]],\n",
       "\n",
       "        [[113., 187.,  31.],\n",
       "         [ 66., 186.,  51.],\n",
       "         [197., 142., 173.]]])"
      ]
     },
     "execution_count": 4,
     "metadata": {},
     "output_type": "execute_result"
    }
   ],
   "source": [
    "X = torch.randint(255, (400, 3, 3), dtype=torch.float)\n",
    "X"
   ]
  },
  {
   "cell_type": "code",
   "execution_count": 24,
   "metadata": {},
   "outputs": [
    {
     "data": {
      "text/plain": [
       "tensor([[ 78., 152., 169.,  ...,  15., 104., 120.],\n",
       "        [ 11.,  56., 151.,  ..., 108., 245.,   3.],\n",
       "        [ 79., 199., 246.,  ..., 233.,  84., 250.],\n",
       "        ...,\n",
       "        [186., 155.,  49.,  ...,  66., 202., 113.],\n",
       "        [235.,  74.,  17.,  ...,  57., 199., 139.],\n",
       "        [113., 187.,  31.,  ..., 197., 142., 173.]])"
      ]
     },
     "execution_count": 24,
     "metadata": {},
     "output_type": "execute_result"
    }
   ],
   "source": [
    "X = X.view(-1, 9)\n",
    "X"
   ]
  },
  {
   "cell_type": "code",
   "execution_count": 6,
   "metadata": {},
   "outputs": [
    {
     "data": {
      "text/plain": [
       "tensor([[399., 307., 239.],\n",
       "        [218., 549., 356.],\n",
       "        [524., 379., 567.],\n",
       "        ...,\n",
       "        [390., 427., 381.],\n",
       "        [326.,  98., 395.],\n",
       "        [331., 303., 512.]])"
      ]
     },
     "execution_count": 6,
     "metadata": {},
     "output_type": "execute_result"
    }
   ],
   "source": [
    "w = [[1, 1, 1, 0, 0, 0, 0, 0, 0], \n",
    "     [0, 0, 0, 1, 1, 1, 0, 0, 0], \n",
    "     [0, 0, 0, 0, 0, 0, 1, 1, 1]]\n",
    "\n",
    "magic_w = torch.tensor(w, dtype=torch.float)\n",
    "X.mm(magic_w.t())"
   ]
  },
  {
   "cell_type": "code",
   "execution_count": 9,
   "metadata": {},
   "outputs": [
    {
     "data": {
      "text/plain": [
       "tensor([0, 1, 2, 0, 2, 0, 0, 1, 2, 0, 1, 1, 2, 1, 0, 1, 2, 2, 0, 1, 0, 1, 1, 2,\n",
       "        2, 2, 0, 2, 1, 2, 1, 0, 2, 2, 1, 2, 2, 2, 1, 2, 0, 1, 1, 0, 2, 1, 1, 0,\n",
       "        2, 2, 2, 0, 2, 1, 1, 1, 1, 1, 0, 2, 0, 0, 2, 0, 0, 2, 2, 2, 0, 1, 1, 2,\n",
       "        0, 2, 1, 0, 0, 2, 1, 2, 0, 0, 0, 1, 0, 2, 1, 2, 2, 2, 1, 0, 0, 0, 2, 2,\n",
       "        2, 2, 0, 0, 2, 0, 0, 1, 0, 1, 0, 1, 2, 1, 0, 2, 2, 0, 1, 0, 2, 0, 0, 2,\n",
       "        1, 1, 2, 2, 2, 0, 1, 2, 0, 1, 0, 0, 1, 2, 2, 2, 1, 0, 2, 1, 2, 1, 2, 0,\n",
       "        1, 0, 2, 2, 0, 2, 1, 0, 0, 2, 0, 1, 1, 2, 1, 1, 1, 1, 0, 1, 1, 2, 0, 1,\n",
       "        0, 1, 1, 2, 0, 0, 2, 2, 2, 1, 0, 2, 2, 1, 2, 2, 2, 1, 1, 0, 1, 1, 1, 2,\n",
       "        0, 2, 0, 1, 2, 2, 2, 2, 0, 1, 2, 0, 2, 1, 0, 1, 1, 2, 1, 0, 1, 2, 0, 0,\n",
       "        1, 1, 1, 0, 1, 2, 2, 2, 2, 1, 1, 1, 1, 1, 1, 1, 1, 2, 0, 2, 0, 1, 0, 0,\n",
       "        2, 2, 1, 2, 0, 0, 2, 2, 0, 2, 1, 0, 0, 2, 0, 1, 1, 1, 0, 0, 2, 2, 2, 2,\n",
       "        1, 2, 2, 1, 0, 1, 0, 1, 0, 0, 2, 1, 2, 0, 0, 2, 0, 0, 0, 1, 0, 0, 2, 1,\n",
       "        0, 0, 1, 2, 2, 2, 1, 1, 0, 0, 2, 2, 2, 0, 2, 1, 2, 0, 0, 2, 2, 1, 0, 0,\n",
       "        2, 0, 0, 0, 1, 1, 0, 0, 2, 0, 2, 1, 1, 2, 0, 0, 1, 2, 2, 1, 2, 1, 0, 1,\n",
       "        1, 0, 0, 2, 2, 0, 2, 1, 1, 2, 1, 1, 0, 0, 1, 0, 0, 0, 2, 2, 2, 1, 0, 1,\n",
       "        0, 1, 0, 2, 2, 1, 1, 1, 2, 0, 0, 0, 1, 1, 0, 0, 2, 2, 2, 0, 1, 1, 0, 2,\n",
       "        0, 1, 2, 1, 0, 0, 1, 2, 0, 0, 0, 1, 0, 1, 2, 2])"
      ]
     },
     "execution_count": 9,
     "metadata": {},
     "output_type": "execute_result"
    }
   ],
   "source": [
    "y = torch.argmax(X.mm(magic_w.t()), 1)\n",
    "y"
   ]
  },
  {
   "cell_type": "code",
   "execution_count": 10,
   "metadata": {},
   "outputs": [
    {
     "data": {
      "text/plain": [
       "tensor([[1., 0., 0.],\n",
       "        [0., 1., 0.],\n",
       "        [0., 0., 1.],\n",
       "        ...,\n",
       "        [0., 1., 0.],\n",
       "        [0., 0., 1.],\n",
       "        [0., 0., 1.]])"
      ]
     },
     "execution_count": 10,
     "metadata": {},
     "output_type": "execute_result"
    }
   ],
   "source": [
    "y = torch.zeros(400, 3, dtype=torch.float).scatter_(1, y.view(-1, 1), 1)\n",
    "y"
   ]
  },
  {
   "cell_type": "code",
   "execution_count": 12,
   "metadata": {},
   "outputs": [
    {
     "data": {
      "image/png": "[encoded data removed]",
      "text/plain": [
       "<Figure size 1296x504 with 120 Axes>"
      ]
     },
     "metadata": {},
     "output_type": "display_data"
    }
   ],
   "source": [
    "from utils.draw import draw_xy\n",
    "\n",
    "draw_xy(X, y)"
   ]
  },
  {
   "cell_type": "code",
   "execution_count": null,
   "metadata": {},
   "outputs": [],
   "source": []
  }
 ],
 "metadata": {
  "kernelspec": {
   "display_name": "Python 3",
   "language": "python",
   "name": "python3"
  },
  "language_info": {
   "codemirror_mode": {
    "name": "ipython",
    "version": 3
   },
   "file_extension": ".py",
   "mimetype": "text/x-python",
   "name": "python",
   "nbconvert_exporter": "python",
   "pygments_lexer": "ipython3",
   "version": "3.6.5"
  },
  "varInspector": {
   "cols": {
    "lenName": 16,
    "lenType": 16,
    "lenVar": 40
   },
   "kernels_config": {
    "python": {
     "delete_cmd_postfix": "",
     "delete_cmd_prefix": "del ",
     "library": "var_list.py",
     "varRefreshCmd": "print(var_dic_list())"
    },
    "r": {
     "delete_cmd_postfix": ") ",
     "delete_cmd_prefix": "rm(",
     "library": "var_list.r",
     "varRefreshCmd": "cat(var_dic_list()) "
    }
   },
   "types_to_exclude": [
    "module",
    "function",
    "builtin_function_or_method",
    "instance",
    "_Feature"
   ],
   "window_display": false
  }
 },
 "nbformat": 4,
 "nbformat_minor": 2
}
