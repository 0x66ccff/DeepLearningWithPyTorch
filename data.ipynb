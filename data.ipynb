{
 "cells": [
  {
   "cell_type": "code",
   "execution_count": 1,
   "metadata": {},
   "outputs": [],
   "source": [
    "import torch\n",
    "from torch.utils.data import DataLoader\n",
    "from torch.utils.data.dataset import Dataset\n",
    "from torchvision import datasets, transforms"
   ]
  },
  {
   "cell_type": "markdown",
   "metadata": {},
   "source": [
    "# Squares"
   ]
  },
  {
   "cell_type": "code",
   "execution_count": 6,
   "metadata": {},
   "outputs": [],
   "source": [
    "class SquareDataset(Dataset):\n",
    "    def __init__(self, size):\n",
    "        self.size = size\n",
    "        self.X = torch.randint(255, (size, 9), dtype=torch.float)\n",
    "\n",
    "        real_w = torch.tensor([[1,1,1,0,0,0,0,0,0],\n",
    "                               [0,0,0,1,1,1,0,0,0],\n",
    "                               [0,0,0,0,0,0,1,1,1]], \n",
    "                               dtype=torch.float)\n",
    "\n",
    "        y = torch.argmax(self.X.mm(real_w.t()), 1)\n",
    "        \n",
    "        self.Y = torch.zeros(size, 3, dtype=torch.float) \\\n",
    "                      .scatter_(1, y.view(-1, 1), 1)\n",
    "\n",
    "    def __getitem__(self, index):\n",
    "        return (self.X[index], self.Y[index])\n",
    "\n",
    "    def __len__(self):\n",
    "        return self.size"
   ]
  },
  {
   "cell_type": "code",
   "execution_count": 10,
   "metadata": {},
   "outputs": [
    {
     "name": "stdout",
     "output_type": "stream",
     "text": [
      "(tensor([ 11., 152., 137., 103.,  26., 183., 211., 152., 192.]), tensor([0., 0., 1.]))\n",
      "(tensor([ 24., 131.,  15., 239., 169., 187.,  68.,  76.,  21.]), tensor([0., 1., 0.]))\n",
      "(tensor([194.,  22.,  38., 192.,  18., 147., 104., 182.,  87.]), tensor([0., 0., 1.]))\n"
     ]
    }
   ],
   "source": [
    "squares = SquareDataset(256)\n",
    "print(squares[34])\n",
    "print(squares[254])\n",
    "print(squares[25])"
   ]
  },
  {
   "cell_type": "code",
   "execution_count": 17,
   "metadata": {
    "scrolled": false
   },
   "outputs": [
    {
     "name": "stdout",
     "output_type": "stream",
     "text": [
      "tensor([[190., 142., 254., 201.,  17., 132., 235.,  83., 239.],\n",
      "        [  6., 241., 198., 131., 149.,  11., 185., 132.,  63.],\n",
      "        [ 61., 147., 254., 196., 183., 169.,  75.,  34., 123.],\n",
      "        [251.,  52., 238., 109., 177., 210.,  53.,  37.,  24.],\n",
      "        [ 68., 254., 216., 248., 205.,  53., 238., 190.,  63.]]) \n",
      "\n",
      " tensor([[1., 0., 0.],\n",
      "        [1., 0., 0.],\n",
      "        [0., 1., 0.],\n",
      "        [1., 0., 0.],\n",
      "        [1., 0., 0.]])\n"
     ]
    }
   ],
   "source": [
    "dataloader = DataLoader(squares, batch_size=5)\n",
    "\n",
    "for batch, (X, Y) in enumerate(dataloader):\n",
    "    print(X, '\\n\\n', Y)\n",
    "    break"
   ]
  },
  {
   "cell_type": "markdown",
   "metadata": {},
   "source": [
    "# Digits"
   ]
  },
  {
   "cell_type": "code",
   "execution_count": 29,
   "metadata": {},
   "outputs": [],
   "source": [
    "digits = datasets.MNIST('data', train=True, download=True,\n",
    "                    transform=transforms.Compose([\n",
    "                        transforms.ToTensor(),\n",
    "                        transforms.Lambda(lambda x: x.view(28*28))\n",
    "                    ]),\n",
    "                    target_transform=transforms.Compose([\n",
    "                        transforms.Lambda(lambda y: torch.zeros(10, dtype=torch.float).scatter_(0, y, 1))\n",
    "                    ])\n",
    "                 )\n"
   ]
  },
  {
   "cell_type": "code",
   "execution_count": 28,
   "metadata": {},
   "outputs": [
    {
     "name": "stdout",
     "output_type": "stream",
     "text": [
      "tensor([[0., 0., 0.,  ..., 0., 0., 0.],\n",
      "        [0., 0., 0.,  ..., 0., 0., 0.],\n",
      "        [0., 0., 0.,  ..., 0., 0., 0.],\n",
      "        ...,\n",
      "        [0., 0., 0.,  ..., 0., 0., 0.],\n",
      "        [0., 0., 0.,  ..., 0., 0., 0.],\n",
      "        [0., 0., 0.,  ..., 0., 0., 0.]]) \n",
      "\n",
      " tensor([[0., 0., 0., 1., 0., 0., 0., 0., 0., 0.],\n",
      "        [0., 0., 0., 0., 0., 1., 0., 0., 0., 0.],\n",
      "        [0., 0., 1., 0., 0., 0., 0., 0., 0., 0.],\n",
      "        [0., 0., 0., 0., 0., 0., 1., 0., 0., 0.],\n",
      "        [0., 0., 0., 0., 0., 0., 0., 1., 0., 0.],\n",
      "        [0., 0., 0., 0., 0., 0., 0., 0., 1., 0.],\n",
      "        [0., 0., 0., 0., 1., 0., 0., 0., 0., 0.],\n",
      "        [0., 1., 0., 0., 0., 0., 0., 0., 0., 0.],\n",
      "        [0., 0., 0., 1., 0., 0., 0., 0., 0., 0.],\n",
      "        [0., 0., 0., 1., 0., 0., 0., 0., 0., 0.]])\n"
     ]
    }
   ],
   "source": [
    "dataloader = DataLoader(digits, batch_size=10, shuffle=True)\n",
    "\n",
    "for batch, (X, Y) in enumerate(dataloader):\n",
    "    print(X, '\\n\\n', Y)\n",
    "    break"
   ]
  },
  {
   "cell_type": "code",
   "execution_count": null,
   "metadata": {},
   "outputs": [],
   "source": []
  }
 ],
 "metadata": {
  "kernelspec": {
   "display_name": "Python 3",
   "language": "python",
   "name": "python3"
  },
  "language_info": {
   "codemirror_mode": {
    "name": "ipython",
    "version": 3
   },
   "file_extension": ".py",
   "mimetype": "text/x-python",
   "name": "python",
   "nbconvert_exporter": "python",
   "pygments_lexer": "ipython3",
   "version": "3.6.5"
  },
  "varInspector": {
   "cols": {
    "lenName": 16,
    "lenType": 16,
    "lenVar": 40
   },
   "kernels_config": {
    "python": {
     "delete_cmd_postfix": "",
     "delete_cmd_prefix": "del ",
     "library": "var_list.py",
     "varRefreshCmd": "print(var_dic_list())"
    },
    "r": {
     "delete_cmd_postfix": ") ",
     "delete_cmd_prefix": "rm(",
     "library": "var_list.r",
     "varRefreshCmd": "cat(var_dic_list()) "
    }
   },
   "types_to_exclude": [
    "module",
    "function",
    "builtin_function_or_method",
    "instance",
    "_Feature"
   ],
   "window_display": false
  }
 },
 "nbformat": 4,
 "nbformat_minor": 2
}
