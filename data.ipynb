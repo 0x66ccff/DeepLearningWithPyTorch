{
 "cells": [
  {
   "cell_type": "code",
   "execution_count": 10,
   "metadata": {},
   "outputs": [],
   "source": [
    "import torch\n",
    "from torch.utils.data import DataLoader\n",
    "from torch.utils.data.dataset import Dataset\n",
    "from torchvision import datasets, transforms"
   ]
  },
  {
   "cell_type": "code",
   "execution_count": 15,
   "metadata": {},
   "outputs": [],
   "source": [
    "class SquareDataset(Dataset):\n",
    "    def __init__(self, size):\n",
    "        self.size = size\n",
    "        self.X = torch.randint(255, (size, 9), dtype=torch.float)\n",
    "\n",
    "        real_w = torch.tensor([[1,1,1,0,0,0,0,0,0],\n",
    "                               [0,0,0,1,1,1,0,0,0],\n",
    "                               [0,0,0,0,0,0,1,1,1]], \n",
    "                               dtype=torch.float)\n",
    "\n",
    "        self.Y = torch.argmax(self.X.mm(real_w.t()), 1)\n",
    "\n",
    "    def __getitem__(self, index):\n",
    "        y = torch.zeros(3, dtype=torch.float) \\\n",
    "                 .scatter_(0, self.Y[index], 1)\n",
    "        return (self.X[index], y)\n",
    "\n",
    "    def __len__(self):\n",
    "        return self.size"
   ]
  },
  {
   "cell_type": "code",
   "execution_count": 20,
   "metadata": {},
   "outputs": [
    {
     "name": "stdout",
     "output_type": "stream",
     "text": [
      "(tensor([125.,  92., 214.,  37.,  86.,   4., 185.,  45.,  17.]), tensor([1., 0., 0.]))\n",
      "(tensor([153.,  62.,  91., 238., 105., 107.,  46.,  41., 210.]), tensor([0., 1., 0.]))\n"
     ]
    }
   ],
   "source": [
    "squares = SquareDataset(256)\n",
    "print(squares[34])\n",
    "print(squares[254])"
   ]
  },
  {
   "cell_type": "code",
   "execution_count": 25,
   "metadata": {},
   "outputs": [],
   "source": [
    "dataloader = DataLoader(squares, batch_size=16)"
   ]
  },
  {
   "cell_type": "code",
   "execution_count": 28,
   "metadata": {
    "scrolled": false
   },
   "outputs": [
    {
     "name": "stdout",
     "output_type": "stream",
     "text": [
      "tensor([[246., 173.,  51., 140.,  39.,  72., 101., 147., 204.],\n",
      "        [145., 182., 111., 110., 206., 213., 221.,  37., 215.],\n",
      "        [192.,   1.,  40., 193.,  71., 237., 229.,   5., 230.],\n",
      "        [132., 233.,  62., 111.,   7., 222., 117., 205.,  74.],\n",
      "        [ 31., 143., 251., 148.,  25., 254., 114., 131., 139.],\n",
      "        [  7., 198.,  21., 148.,  25., 138., 174., 186., 236.],\n",
      "        [252.,  53.,  10., 189., 191., 128., 159.,  75., 149.],\n",
      "        [197., 193., 190., 137.,  20.,  86.,  75.,  67., 164.],\n",
      "        [224., 136.,   1., 214., 189., 170.,  36., 114.,  51.],\n",
      "        [162.,  60.,   1.,  45.,  31.,  18., 202.,  42.,  52.],\n",
      "        [ 96.,  18., 105., 229., 114., 235., 200., 111.,  88.],\n",
      "        [195., 179.,  87.,  77.,  11., 100., 224., 158., 214.],\n",
      "        [ 41., 105.,  18., 166., 235., 112., 169.,  56.,  45.],\n",
      "        [207., 159., 123.,  14.,  96., 100., 173., 116.,  81.],\n",
      "        [ 97., 197., 232., 194.,  93., 118.,  33.,  67.,  64.],\n",
      "        [207., 241., 137., 105.,  17., 126., 238., 101., 172.]])\n",
      "tensor([[1., 0., 0.],\n",
      "        [0., 1., 0.],\n",
      "        [0., 1., 0.],\n",
      "        [1., 0., 0.],\n",
      "        [0., 1., 0.],\n",
      "        [0., 0., 1.],\n",
      "        [0., 1., 0.],\n",
      "        [1., 0., 0.],\n",
      "        [0., 1., 0.],\n",
      "        [0., 0., 1.],\n",
      "        [0., 1., 0.],\n",
      "        [0., 0., 1.],\n",
      "        [0., 1., 0.],\n",
      "        [1., 0., 0.],\n",
      "        [1., 0., 0.],\n",
      "        [1., 0., 0.]])\n"
     ]
    }
   ],
   "source": [
    "for batch, (X, Y) in enumerate(dataloader):\n",
    "    print(X)\n",
    "    print(Y)\n",
    "    break"
   ]
  },
  {
   "cell_type": "code",
   "execution_count": 30,
   "metadata": {},
   "outputs": [],
   "source": [
    "digits = datasets.MNIST('data', train=True, download=True,\n",
    "                    transform=transforms.Compose([\n",
    "                        transforms.ToTensor(),\n",
    "                        transforms.Lambda(lambda x: x.reshape(28*28))\n",
    "                    ]),\n",
    "                    target_transform=transforms.Compose([\n",
    "                        transforms.Lambda(lambda y: torch.zeros(10, dtype=torch.float).scatter_(0, y, 1))\n",
    "                    ])\n",
    "                 )\n",
    "dataloader = DataLoader(digits, batch_size=10, shuffle=True)"
   ]
  },
  {
   "cell_type": "code",
   "execution_count": 31,
   "metadata": {},
   "outputs": [
    {
     "name": "stdout",
     "output_type": "stream",
     "text": [
      "tensor([[0., 0., 0.,  ..., 0., 0., 0.],\n",
      "        [0., 0., 0.,  ..., 0., 0., 0.],\n",
      "        [0., 0., 0.,  ..., 0., 0., 0.],\n",
      "        ...,\n",
      "        [0., 0., 0.,  ..., 0., 0., 0.],\n",
      "        [0., 0., 0.,  ..., 0., 0., 0.],\n",
      "        [0., 0., 0.,  ..., 0., 0., 0.]])\n",
      "tensor([[0., 0., 0., 0., 0., 1., 0., 0., 0., 0.],\n",
      "        [0., 0., 0., 0., 0., 0., 1., 0., 0., 0.],\n",
      "        [0., 0., 0., 0., 0., 0., 1., 0., 0., 0.],\n",
      "        [0., 0., 0., 1., 0., 0., 0., 0., 0., 0.],\n",
      "        [0., 0., 0., 0., 1., 0., 0., 0., 0., 0.],\n",
      "        [0., 0., 0., 0., 0., 0., 0., 0., 1., 0.],\n",
      "        [0., 0., 0., 0., 0., 0., 1., 0., 0., 0.],\n",
      "        [0., 0., 0., 1., 0., 0., 0., 0., 0., 0.],\n",
      "        [0., 0., 0., 1., 0., 0., 0., 0., 0., 0.],\n",
      "        [0., 0., 0., 0., 0., 0., 0., 0., 1., 0.]])\n"
     ]
    }
   ],
   "source": [
    "for batch, (X, Y) in enumerate(dataloader):\n",
    "    print(X)\n",
    "    print(Y)\n",
    "    break"
   ]
  },
  {
   "cell_type": "code",
   "execution_count": null,
   "metadata": {},
   "outputs": [],
   "source": []
  }
 ],
 "metadata": {
  "kernelspec": {
   "display_name": "Python 3",
   "language": "python",
   "name": "python3"
  },
  "language_info": {
   "codemirror_mode": {
    "name": "ipython",
    "version": 3
   },
   "file_extension": ".py",
   "mimetype": "text/x-python",
   "name": "python",
   "nbconvert_exporter": "python",
   "pygments_lexer": "ipython3",
   "version": "3.6.5"
  },
  "varInspector": {
   "cols": {
    "lenName": 16,
    "lenType": 16,
    "lenVar": 40
   },
   "kernels_config": {
    "python": {
     "delete_cmd_postfix": "",
     "delete_cmd_prefix": "del ",
     "library": "var_list.py",
     "varRefreshCmd": "print(var_dic_list())"
    },
    "r": {
     "delete_cmd_postfix": ") ",
     "delete_cmd_prefix": "rm(",
     "library": "var_list.r",
     "varRefreshCmd": "cat(var_dic_list()) "
    }
   },
   "types_to_exclude": [
    "module",
    "function",
    "builtin_function_or_method",
    "instance",
    "_Feature"
   ],
   "window_display": false
  }
 },
 "nbformat": 4,
 "nbformat_minor": 2
}
