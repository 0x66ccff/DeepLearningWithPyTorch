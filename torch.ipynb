{
 "cells": [
  {
   "cell_type": "code",
   "execution_count": 1,
   "metadata": {},
   "outputs": [],
   "source": [
    "import torch\n",
    "from utils.draw import draw_squares\n",
    "from utils.square import SquareDataset\n",
    "from torch.utils.data import DataLoader"
   ]
  },
  {
   "cell_type": "code",
   "execution_count": 3,
   "metadata": {},
   "outputs": [
    {
     "name": "stdout",
     "output_type": "stream",
     "text": [
      "(tensor([146., 198., 170., 197., 100.,  25.,  16.,  78.,  21.]), tensor([1., 0., 0.]))\n",
      "(tensor([226., 131.,  24., 221.,  54., 116.,  80., 121.,  10.]), tensor([0., 1., 0.]))\n",
      "(tensor([  2., 110., 181., 117., 194., 153.,  14., 151.,  96.]), tensor([0., 1., 0.]))\n",
      "(tensor([230.,  30., 236., 135.,  95., 126., 160.,  64.,  26.]), tensor([1., 0., 0.]))\n",
      "(tensor([173., 249.,  12., 150., 111.,  19., 196., 106., 227.]), tensor([0., 0., 1.]))\n"
     ]
    }
   ],
   "source": [
    "squares = SquareDataset(1280)\n",
    "for i in range(5):\n",
    "   print(squares[i])"
   ]
  },
  {
   "cell_type": "code",
   "execution_count": 4,
   "metadata": {},
   "outputs": [],
   "source": [
    "device = torch.device('cuda')\n",
    "\n",
    "# Use the nn package to define our model and loss function.\n",
    "model = torch.nn.Linear(9, 3)\n",
    "model = model.to(device)\n",
    "\n",
    "cost = torch.nn.MSELoss(reduction='sum')\n",
    "\n",
    "# optimizer which Tensors it should update.\n",
    "learning_rate = 1e-4\n",
    "optimizer = torch.optim.SGD(model.parameters(), lr=learning_rate)\n",
    "\n",
    "# dataset!\n",
    "dataloader = DataLoader(squares, batch_size=128)\n",
    "\n",
    "epochs = 300"
   ]
  },
  {
   "cell_type": "code",
   "execution_count": 6,
   "metadata": {},
   "outputs": [
    {
     "name": "stdout",
     "output_type": "stream",
     "text": [
      "l: 36.942242, (e 0)\n",
      "l: 36.934631, (e 100)\n",
      "l: 36.935852, (e 200)\n",
      "Parameter containing:\n",
      "tensor([[ 0.6519,  0.5624,  0.5673, -0.3080, -0.2763, -0.2851, -0.2849, -0.3109,\n",
      "         -0.2483],\n",
      "        [-0.3788, -0.2972, -0.2607,  0.5261,  0.5484,  0.6179, -0.3166, -0.2627,\n",
      "         -0.3024],\n",
      "        [-0.2692, -0.2622, -0.3026, -0.2138, -0.2685, -0.3290,  0.6044,  0.5776,\n",
      "          0.5539]], device='cuda:0', requires_grad=True)\n",
      "Parameter containing:\n",
      "tensor([0.3050, 0.3893, 0.2889], device='cuda:0', requires_grad=True)\n"
     ]
    }
   ],
   "source": [
    "for t in range(epochs):\n",
    "    for batch, (X, Y) in enumerate(dataloader):\n",
    "        X, Y = X.to(device) / 255, Y.to(device)\n",
    "        optimizer.zero_grad()\n",
    "        pred = model(X)\n",
    "        loss = cost(pred, Y)\n",
    "        loss.backward()\n",
    "        optimizer.step()\n",
    "\n",
    "    if t % 50 == 0:\n",
    "        print('l: {:>8f}, (e {})'.format(loss.item(), t))"
   ]
  },
  {
   "cell_type": "code",
   "execution_count": 7,
   "metadata": {},
   "outputs": [
    {
     "name": "stdout",
     "output_type": "stream",
     "text": [
      "W's and b's:\n",
      "Parameter containing:\n",
      "tensor([[ 0.6519,  0.5624,  0.5673, -0.3080, -0.2763, -0.2851, -0.2849, -0.3109,\n",
      "         -0.2483],\n",
      "        [-0.3788, -0.2972, -0.2607,  0.5261,  0.5484,  0.6179, -0.3166, -0.2627,\n",
      "         -0.3024],\n",
      "        [-0.2692, -0.2622, -0.3026, -0.2138, -0.2685, -0.3290,  0.6044,  0.5776,\n",
      "          0.5539]], device='cuda:0', requires_grad=True)\n",
      "Parameter containing:\n",
      "tensor([0.3050, 0.3893, 0.2889], device='cuda:0', requires_grad=True)\n"
     ]
    }
   ],
   "source": [
    "print(\"W's and b's:\")\n",
    "for p in model.parameters():\n",
    "    print(p)"
   ]
  },
  {
   "cell_type": "code",
   "execution_count": null,
   "metadata": {},
   "outputs": [],
   "source": []
  }
 ],
 "metadata": {
  "kernelspec": {
   "display_name": "Python 3",
   "language": "python",
   "name": "python3"
  },
  "language_info": {
   "codemirror_mode": {
    "name": "ipython",
    "version": 3
   },
   "file_extension": ".py",
   "mimetype": "text/x-python",
   "name": "python",
   "nbconvert_exporter": "python",
   "pygments_lexer": "ipython3",
   "version": "3.6.5"
  },
  "varInspector": {
   "cols": {
    "lenName": 16,
    "lenType": 16,
    "lenVar": 40
   },
   "kernels_config": {
    "python": {
     "delete_cmd_postfix": "",
     "delete_cmd_prefix": "del ",
     "library": "var_list.py",
     "varRefreshCmd": "print(var_dic_list())"
    },
    "r": {
     "delete_cmd_postfix": ") ",
     "delete_cmd_prefix": "rm(",
     "library": "var_list.r",
     "varRefreshCmd": "cat(var_dic_list()) "
    }
   },
   "types_to_exclude": [
    "module",
    "function",
    "builtin_function_or_method",
    "instance",
    "_Feature"
   ],
   "window_display": false
  }
 },
 "nbformat": 4,
 "nbformat_minor": 2
}
