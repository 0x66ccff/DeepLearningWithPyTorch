{
 "cells": [
  {
   "cell_type": "code",
   "execution_count": 55,
   "metadata": {},
   "outputs": [],
   "source": [
    "import torch\n",
    "import torch.nn as nn\n",
    "import torch.nn.functional as F\n",
    "from utils.draw import draw_squares\n",
    "from utils.square import SquareDataset\n",
    "from torch.utils.data import DataLoader"
   ]
  },
  {
   "cell_type": "code",
   "execution_count": 56,
   "metadata": {},
   "outputs": [],
   "source": [
    "class LinearModel(nn.Module):\n",
    "    def __init__(self, x, y):\n",
    "        super(LinearModel, self).__init__()\n",
    "        self.layer1 = nn.Linear(x, y)\n",
    "\n",
    "    def forward(self, x):\n",
    "        x = self.layer1(x)\n",
    "        return F.softmax(x, dim=1)"
   ]
  },
  {
   "cell_type": "code",
   "execution_count": 57,
   "metadata": {},
   "outputs": [
    {
     "name": "stdout",
     "output_type": "stream",
     "text": [
      "(tensor([147.,  63.,  50., 243., 253., 194., 175.,  53.,  26.]), tensor([0., 1., 0.]))\n",
      "(tensor([ 32., 208.,  76.,  96.,   8., 206., 229., 160., 180.]), tensor([0., 0., 1.]))\n",
      "(tensor([ 56., 145., 213., 226., 229.,  14., 115., 103., 111.]), tensor([0., 1., 0.]))\n",
      "(tensor([ 64., 219., 240.,  69., 108., 237., 224., 205., 232.]), tensor([0., 0., 1.]))\n",
      "(tensor([ 27., 196., 199., 180., 190.,  33., 231., 185., 222.]), tensor([0., 0., 1.]))\n"
     ]
    }
   ],
   "source": [
    "squares = SquareDataset(3000)\n",
    "for i in range(5):\n",
    "    print(squares[i])"
   ]
  },
  {
   "cell_type": "markdown",
   "metadata": {},
   "source": [
    "# Setting things up!"
   ]
  },
  {
   "cell_type": "code",
   "execution_count": 58,
   "metadata": {},
   "outputs": [],
   "source": [
    "device = torch.device('cuda')\n",
    "\n",
    "# Use the nn package to define our model and loss function.\n",
    "model = LinearModel(9, 3)\n",
    "model = model.to(device)\n",
    "\n",
    "cost = torch.nn.BCELoss()\n",
    "\n",
    "# optimizer which Tensors it should update.\n",
    "learning_rate = 1e-3\n",
    "optimizer = torch.optim.Adam(model.parameters(), lr=learning_rate)\n",
    "\n",
    "# dataset!\n",
    "dataloader = DataLoader(squares, batch_size=128)\n",
    "\n",
    "epochs = 350"
   ]
  },
  {
   "cell_type": "markdown",
   "metadata": {},
   "source": [
    "# The Optimization Loop"
   ]
  },
  {
   "cell_type": "code",
   "execution_count": 83,
   "metadata": {},
   "outputs": [
    {
     "name": "stdout",
     "output_type": "stream",
     "text": [
      "l: 0.081167, (e   0)\n",
      "l: 0.078037, (e  50)\n",
      "l: 0.075253, (e 100)\n",
      "l: 0.072756, (e 150)\n",
      "l: 0.070501, (e 200)\n",
      "l: 0.068451, (e 250)\n",
      "l: 0.066578, (e 300)\n",
      "l: 0.064891, (e 349)\n",
      "Done!\n"
     ]
    }
   ],
   "source": [
    "for t in range(epochs):\n",
    "    for batch, (X, Y) in enumerate(dataloader):\n",
    "        X, Y = X.to(device) / 255, Y.to(device)\n",
    "        optimizer.zero_grad()\n",
    "        pred = model(X)\n",
    "        loss = cost(pred, Y)\n",
    "        loss.backward()\n",
    "        optimizer.step()\n",
    "\n",
    "    if t % 50 == 0:\n",
    "        print('l: {:>8f}, (e {:>3})'.format(loss.item(), t))\n",
    "        \n",
    "print('l: {:>8f}, (e {:>3})\\nDone!'.format(loss.item(), t))"
   ]
  },
  {
   "cell_type": "code",
   "execution_count": 84,
   "metadata": {},
   "outputs": [
    {
     "name": "stdout",
     "output_type": "stream",
     "text": [
      "W's and b's:\n",
      "Parameter containing:\n",
      "tensor([[ 6.9096,  6.9024,  6.7417, -4.4641, -4.0440, -4.3879, -4.7592, -4.7063,\n",
      "         -4.4715],\n",
      "        [-4.4005, -4.5857, -4.2385,  7.0906,  7.2895,  7.5260, -4.9837, -5.0253,\n",
      "         -4.6258],\n",
      "        [-4.7008, -4.6695, -4.2674, -4.7429, -4.7396, -4.3155,  7.1942,  6.8867,\n",
      "          7.2619]], device='cuda:0', requires_grad=True)\n",
      "Parameter containing:\n",
      "tensor([0.3625, 0.0536, 0.1359], device='cuda:0', requires_grad=True)\n"
     ]
    }
   ],
   "source": [
    "print(\"W's and b's:\")\n",
    "for p in model.parameters():\n",
    "    print(p)"
   ]
  },
  {
   "cell_type": "markdown",
   "metadata": {},
   "source": [
    "# Trying it out (inference)"
   ]
  },
  {
   "cell_type": "code",
   "execution_count": 99,
   "metadata": {},
   "outputs": [
    {
     "name": "stdout",
     "output_type": "stream",
     "text": [
      "tensor([[9.9666e-01, 1.4225e-12, 3.3351e-03]], device='cuda:0')\n",
      "\n",
      "top:    0.996665\n",
      "middle: 0.000000\n",
      "bottom: 0.003335\n"
     ]
    }
   ],
   "source": [
    "img = [255, 255, 145, 34, 21, 0, 232, 32, 255]\n",
    "with torch.no_grad():\n",
    "    o = model(torch.tensor(img, dtype=torch.float).view(1, 9).to(device) / 255)\n",
    "    \n",
    "print(o)\n",
    "print('\\ntop:    {:>8f}\\nmiddle: {:>8f}\\nbottom: {:>8f}'.format(*o[0]))"
   ]
  },
  {
   "cell_type": "code",
   "execution_count": null,
   "metadata": {},
   "outputs": [],
   "source": []
  }
 ],
 "metadata": {
  "kernelspec": {
   "display_name": "Python 3",
   "language": "python",
   "name": "python3"
  },
  "language_info": {
   "codemirror_mode": {
    "name": "ipython",
    "version": 3
   },
   "file_extension": ".py",
   "mimetype": "text/x-python",
   "name": "python",
   "nbconvert_exporter": "python",
   "pygments_lexer": "ipython3",
   "version": "3.6.5"
  },
  "varInspector": {
   "cols": {
    "lenName": 16,
    "lenType": 16,
    "lenVar": 40
   },
   "kernels_config": {
    "python": {
     "delete_cmd_postfix": "",
     "delete_cmd_prefix": "del ",
     "library": "var_list.py",
     "varRefreshCmd": "print(var_dic_list())"
    },
    "r": {
     "delete_cmd_postfix": ") ",
     "delete_cmd_prefix": "rm(",
     "library": "var_list.r",
     "varRefreshCmd": "cat(var_dic_list()) "
    }
   },
   "types_to_exclude": [
    "module",
    "function",
    "builtin_function_or_method",
    "instance",
    "_Feature"
   ],
   "window_display": false
  }
 },
 "nbformat": 4,
 "nbformat_minor": 2
}
